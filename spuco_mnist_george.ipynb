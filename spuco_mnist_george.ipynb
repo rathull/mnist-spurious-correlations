{
  "nbformat": 4,
  "nbformat_minor": 0,
  "metadata": {
    "colab": {
      "provenance": [],
      "machine_shape": "hm",
      "gpuType": "T4",
      "authorship_tag": "ABX9TyNAYjmmguRz/wFirxaT0obW"
    },
    "kernelspec": {
      "name": "python3",
      "display_name": "Python 3"
    },
    "language_info": {
      "name": "python"
    },
    "accelerator": "GPU"
  },
  "cells": [
    {
      "cell_type": "markdown",
      "source": [
        "Rathul Anand\n",
        "\n",
        "Linguistics & Computer Science, Applied Mathematics @ UCLA\n",
        "\n",
        "January 8, 2023"
      ],
      "metadata": {
        "id": "ulBVAcsYTQUP"
      }
    },
    {
      "cell_type": "code",
      "source": [
        "# Imports\n",
        "import numpy as np\n",
        "import torch\n",
        "import torch.nn as nn\n",
        "import torch.nn.functional as F\n",
        "from torch import optim\n",
        "from torchvision import transforms\n",
        "import matplotlib.pyplot as plt\n",
        "from torchsummary import summary\n",
        "\n",
        "!pip3 -q install spuco\n",
        "from spuco.datasets import SpuCoMNIST, SpuriousFeatureDifficulty\n",
        "from spuco.models import model_factory\n",
        "from spuco.robust_train import ERM, GroupBalanceBatchERM\n",
        "from spuco.evaluate import Evaluator\n",
        "from spuco.group_inference import Cluster, ClusterAlg"
      ],
      "metadata": {
        "id": "XDCEA4IfT4Kx",
        "colab": {
          "base_uri": "https://localhost:8080/"
        },
        "outputId": "a77c49e0-eba6-45f1-b62c-c370b32d1109"
      },
      "execution_count": 1,
      "outputs": [
        {
          "output_type": "stream",
          "name": "stdout",
          "text": [
            "\u001b[2K     \u001b[90m━━━━━━━━━━━━━━━━━━━━━━━━━━━━━━━━━━━━━━━━\u001b[0m \u001b[32m101.0/101.0 kB\u001b[0m \u001b[31m2.0 MB/s\u001b[0m eta \u001b[36m0:00:00\u001b[0m\n",
            "\u001b[2K     \u001b[90m━━━━━━━━━━━━━━━━━━━━━━━━━━━━━━━━━━━━━━━━\u001b[0m \u001b[32m126.2/126.2 kB\u001b[0m \u001b[31m5.6 MB/s\u001b[0m eta \u001b[36m0:00:00\u001b[0m\n",
            "\u001b[2K     \u001b[90m━━━━━━━━━━━━━━━━━━━━━━━━━━━━━━━━━━━━━━━━\u001b[0m \u001b[32m78.8/78.8 kB\u001b[0m \u001b[31m6.2 MB/s\u001b[0m eta \u001b[36m0:00:00\u001b[0m\n",
            "\u001b[?25h  Preparing metadata (setup.py) ... \u001b[?25l\u001b[?25hdone\n",
            "  Building wheel for littleutils (setup.py) ... \u001b[?25l\u001b[?25hdone\n"
          ]
        }
      ]
    },
    {
      "cell_type": "code",
      "source": [
        "# Use GPU if GPU (CUDA) is available\n",
        "device = torch.device('cuda' if torch.cuda.is_available() else 'cpu')\n",
        "print(f'Device: {device}')"
      ],
      "metadata": {
        "colab": {
          "base_uri": "https://localhost:8080/"
        },
        "id": "XP4Jx0PkUotS",
        "outputId": "fb18a33a-8bbb-49f0-b391-e888a3e8969e"
      },
      "execution_count": 2,
      "outputs": [
        {
          "output_type": "stream",
          "name": "stdout",
          "text": [
            "Device: cuda\n"
          ]
        }
      ]
    },
    {
      "cell_type": "markdown",
      "source": [
        "# Step 1: Standard Training with ERM"
      ],
      "metadata": {
        "id": "N53bj9IfTbGy"
      }
    },
    {
      "cell_type": "markdown",
      "source": [
        "## Data\n",
        "Initialize datasets"
      ],
      "metadata": {
        "id": "Z2VJLk3mVjpx"
      }
    },
    {
      "cell_type": "code",
      "source": [
        "# Set difficulty and form grouped classes\n",
        "difficulty = SpuriousFeatureDifficulty.MAGNITUDE_LARGE\n",
        "classes = [[0,1], [2,3], [4,5], [6,7], [8,9]]"
      ],
      "metadata": {
        "id": "knKtDedoVmUe"
      },
      "execution_count": 3,
      "outputs": []
    },
    {
      "cell_type": "code",
      "source": [
        "# Datasets\n",
        "dataset_train = SpuCoMNIST(\n",
        "    root = 'data/',\n",
        "    spurious_feature_difficulty = difficulty,\n",
        "    classes = classes,\n",
        "    spurious_correlation_strength = 0.99,\n",
        "    split = 'train',\n",
        "    download = True\n",
        ")\n",
        "\n",
        "dataset_val = SpuCoMNIST(\n",
        "    root = 'data/',\n",
        "    spurious_feature_difficulty = difficulty,\n",
        "    classes = classes,\n",
        "    spurious_correlation_strength = 0.99,\n",
        "    split = 'val',\n",
        "    download = True\n",
        ")\n",
        "\n",
        "dataset_test = SpuCoMNIST(\n",
        "    root = 'data/',\n",
        "    spurious_feature_difficulty = difficulty,\n",
        "    classes = classes,\n",
        "    spurious_correlation_strength = 0.99,\n",
        "    split = 'test',\n",
        "    download = True\n",
        ")\n",
        "\n",
        "dataset_train.initialize()\n",
        "dataset_val.initialize()\n",
        "dataset_test.initialize()"
      ],
      "metadata": {
        "colab": {
          "base_uri": "https://localhost:8080/"
        },
        "id": "UtqBpngoXThx",
        "outputId": "0c5aa161-2bbc-42e0-e47a-32eac9ac7c98"
      },
      "execution_count": 4,
      "outputs": [
        {
          "output_type": "stream",
          "name": "stdout",
          "text": [
            "Downloading http://yann.lecun.com/exdb/mnist/train-images-idx3-ubyte.gz\n",
            "Downloading http://yann.lecun.com/exdb/mnist/train-images-idx3-ubyte.gz to data/MNIST/raw/train-images-idx3-ubyte.gz\n"
          ]
        },
        {
          "output_type": "stream",
          "name": "stderr",
          "text": [
            "100%|██████████| 9912422/9912422 [00:00<00:00, 97359708.98it/s]"
          ]
        },
        {
          "output_type": "stream",
          "name": "stdout",
          "text": [
            "Extracting data/MNIST/raw/train-images-idx3-ubyte.gz to data/MNIST/raw\n"
          ]
        },
        {
          "output_type": "stream",
          "name": "stderr",
          "text": [
            "\n"
          ]
        },
        {
          "output_type": "stream",
          "name": "stdout",
          "text": [
            "\n",
            "Downloading http://yann.lecun.com/exdb/mnist/train-labels-idx1-ubyte.gz\n",
            "Downloading http://yann.lecun.com/exdb/mnist/train-labels-idx1-ubyte.gz to data/MNIST/raw/train-labels-idx1-ubyte.gz\n"
          ]
        },
        {
          "output_type": "stream",
          "name": "stderr",
          "text": [
            "100%|██████████| 28881/28881 [00:00<00:00, 24270826.25it/s]"
          ]
        },
        {
          "output_type": "stream",
          "name": "stdout",
          "text": [
            "Extracting data/MNIST/raw/train-labels-idx1-ubyte.gz to data/MNIST/raw\n",
            "\n",
            "Downloading http://yann.lecun.com/exdb/mnist/t10k-images-idx3-ubyte.gz\n",
            "Downloading http://yann.lecun.com/exdb/mnist/t10k-images-idx3-ubyte.gz to data/MNIST/raw/t10k-images-idx3-ubyte.gz\n"
          ]
        },
        {
          "output_type": "stream",
          "name": "stderr",
          "text": [
            "\n",
            "100%|██████████| 1648877/1648877 [00:00<00:00, 24921412.70it/s]\n"
          ]
        },
        {
          "output_type": "stream",
          "name": "stdout",
          "text": [
            "Extracting data/MNIST/raw/t10k-images-idx3-ubyte.gz to data/MNIST/raw\n",
            "\n",
            "Downloading http://yann.lecun.com/exdb/mnist/t10k-labels-idx1-ubyte.gz\n",
            "Downloading http://yann.lecun.com/exdb/mnist/t10k-labels-idx1-ubyte.gz to data/MNIST/raw/t10k-labels-idx1-ubyte.gz\n"
          ]
        },
        {
          "output_type": "stream",
          "name": "stderr",
          "text": [
            "100%|██████████| 4542/4542 [00:00<00:00, 4586068.55it/s]\n"
          ]
        },
        {
          "output_type": "stream",
          "name": "stdout",
          "text": [
            "Extracting data/MNIST/raw/t10k-labels-idx1-ubyte.gz to data/MNIST/raw\n",
            "\n"
          ]
        },
        {
          "output_type": "stream",
          "name": "stderr",
          "text": [
            "100%|██████████| 48004/48004 [00:06<00:00, 7226.25it/s]\n",
            "100%|██████████| 11996/11996 [00:01<00:00, 8000.32it/s]\n",
            "100%|██████████| 10000/10000 [00:01<00:00, 8209.20it/s]\n"
          ]
        }
      ]
    },
    {
      "cell_type": "code",
      "source": [
        "# Visualize images\n",
        "img, label = dataset_train[np.random.randint(0, 1000)]\n",
        "print(f'Image: {label}')\n",
        "plt.imshow(img.transpose(0, 1).transpose(1, 2))"
      ],
      "metadata": {
        "colab": {
          "base_uri": "https://localhost:8080/",
          "height": 462
        },
        "id": "XwQ7l5FqZRWO",
        "outputId": "55964aaf-8d03-471b-d359-5732d0daec8a"
      },
      "execution_count": 5,
      "outputs": [
        {
          "output_type": "stream",
          "name": "stdout",
          "text": [
            "Image: 0\n"
          ]
        },
        {
          "output_type": "execute_result",
          "data": {
            "text/plain": [
              "<matplotlib.image.AxesImage at 0x784332e86560>"
            ]
          },
          "metadata": {},
          "execution_count": 5
        },
        {
          "output_type": "display_data",
          "data": {
            "text/plain": [
              "<Figure size 640x480 with 1 Axes>"
            ],
            "image/png": "[encoded data removed]"
          },
          "metadata": {}
        }
      ]
    },
    {
      "cell_type": "markdown",
      "source": [
        "## Train with ERM"
      ],
      "metadata": {
        "id": "2Ygd9VMbeDPV"
      }
    },
    {
      "cell_type": "code",
      "source": [
        "# Init model\n",
        "network = model_factory(\n",
        "    arch = 'lenet',\n",
        "    input_shape = dataset_train[0][0].shape,\n",
        "    num_classes = dataset_train.num_classes\n",
        ")\n",
        "network.to(device)\n",
        "summary(network, dataset_train[0][0].shape)"
      ],
      "metadata": {
        "colab": {
          "base_uri": "https://localhost:8080/"
        },
        "id": "ImYsAUZ4b7hc",
        "outputId": "47f8abd0-a07a-4db8-a6f0-71377d7acf52"
      },
      "execution_count": 6,
      "outputs": [
        {
          "output_type": "stream",
          "name": "stdout",
          "text": [
            "----------------------------------------------------------------\n",
            "        Layer (type)               Output Shape         Param #\n",
            "================================================================\n",
            "            Conv2d-1            [-1, 6, 28, 28]             456\n",
            "              ReLU-2            [-1, 6, 28, 28]               0\n",
            "         MaxPool2d-3            [-1, 6, 14, 14]               0\n",
            "            Conv2d-4           [-1, 16, 10, 10]           2,416\n",
            "              ReLU-5           [-1, 16, 10, 10]               0\n",
            "         MaxPool2d-6             [-1, 16, 5, 5]               0\n",
            "            Linear-7                  [-1, 120]          48,120\n",
            "            Linear-8                   [-1, 84]          10,164\n",
            "             LeNet-9                   [-1, 84]               0\n",
            "           Linear-10                    [-1, 5]             425\n",
            "================================================================\n",
            "Total params: 61,581\n",
            "Trainable params: 61,581\n",
            "Non-trainable params: 0\n",
            "----------------------------------------------------------------\n",
            "Input size (MB): 0.01\n",
            "Forward/backward pass size (MB): 0.11\n",
            "Params size (MB): 0.23\n",
            "Estimated Total Size (MB): 0.35\n",
            "----------------------------------------------------------------\n"
          ]
        }
      ]
    },
    {
      "cell_type": "code",
      "source": [
        "# Optimizer\n",
        "optimizer=optim.SGD(network.parameters(), lr=1e-2, momentum=0.9, nesterov=True)"
      ],
      "metadata": {
        "id": "UXtVTwWIc8vF"
      },
      "execution_count": 7,
      "outputs": []
    },
    {
      "cell_type": "code",
      "source": [
        "# Train\n",
        "erm = ERM(\n",
        "    model = network,\n",
        "    trainset = dataset_train,\n",
        "    batch_size = 64,\n",
        "    optimizer = optimizer,\n",
        "    num_epochs = 1,\n",
        "    device = device,\n",
        "    verbose = True\n",
        ")\n",
        "\n",
        "erm.train()"
      ],
      "metadata": {
        "colab": {
          "base_uri": "https://localhost:8080/"
        },
        "id": "jCbEvm-od6No",
        "outputId": "09114664-c5c9-4b49-98f0-c4542b6be0c4"
      },
      "execution_count": 8,
      "outputs": [
        {
          "output_type": "stream",
          "name": "stderr",
          "text": [
            "Epoch 0: 100%|██████████| 751/751 [00:04<00:00, 161.67batch/s, accuracy=100.0%, loss=0.00621]\n"
          ]
        }
      ]
    },
    {
      "cell_type": "markdown",
      "source": [
        "## Evaluate Model"
      ],
      "metadata": {
        "id": "J_wRePoIc-vz"
      }
    },
    {
      "cell_type": "code",
      "source": [
        "# Evaluate cross-group accuracy\n",
        "evaluator = Evaluator(\n",
        "    testset = dataset_test,\n",
        "    group_partition = dataset_test.group_partition,\n",
        "    group_weights = dataset_train.group_weights,\n",
        "    batch_size = 64,\n",
        "    model = network,\n",
        "    device = device,\n",
        "    verbose = True\n",
        ")\n",
        "\n",
        "evaluator.evaluate()"
      ],
      "metadata": {
        "colab": {
          "base_uri": "https://localhost:8080/"
        },
        "id": "4KfwjzTMeqjf",
        "outputId": "91bc42e9-cf09-4c27-e78f-788d8e2afb0e"
      },
      "execution_count": 9,
      "outputs": [
        {
          "output_type": "stream",
          "name": "stderr",
          "text": [
            "Evaluating group-wise accuracy:   4%|▍         | 1/25 [00:00<00:04,  5.63it/s]"
          ]
        },
        {
          "output_type": "stream",
          "name": "stdout",
          "text": [
            "Group (0, 0) Accuracy: 100.0\n"
          ]
        },
        {
          "output_type": "stream",
          "name": "stderr",
          "text": [
            "\rEvaluating group-wise accuracy:   8%|▊         | 2/25 [00:00<00:03,  5.81it/s]"
          ]
        },
        {
          "output_type": "stream",
          "name": "stdout",
          "text": [
            "Group (0, 1) Accuracy: 0.0\n"
          ]
        },
        {
          "output_type": "stream",
          "name": "stderr",
          "text": [
            "\rEvaluating group-wise accuracy:  12%|█▏        | 3/25 [00:00<00:06,  3.55it/s]"
          ]
        },
        {
          "output_type": "stream",
          "name": "stdout",
          "text": [
            "Group (0, 2) Accuracy: 0.0\n"
          ]
        },
        {
          "output_type": "stream",
          "name": "stderr",
          "text": [
            "\rEvaluating group-wise accuracy:  16%|█▌        | 4/25 [00:00<00:04,  4.22it/s]"
          ]
        },
        {
          "output_type": "stream",
          "name": "stdout",
          "text": [
            "Group (0, 3) Accuracy: 0.0\n"
          ]
        },
        {
          "output_type": "stream",
          "name": "stderr",
          "text": [
            "\rEvaluating group-wise accuracy:  20%|██        | 5/25 [00:01<00:04,  4.47it/s]"
          ]
        },
        {
          "output_type": "stream",
          "name": "stdout",
          "text": [
            "Group (0, 4) Accuracy: 0.0\n"
          ]
        },
        {
          "output_type": "stream",
          "name": "stderr",
          "text": [
            "\rEvaluating group-wise accuracy:  24%|██▍       | 6/25 [00:01<00:04,  4.73it/s]"
          ]
        },
        {
          "output_type": "stream",
          "name": "stdout",
          "text": [
            "Group (1, 0) Accuracy: 0.0\n"
          ]
        },
        {
          "output_type": "stream",
          "name": "stderr",
          "text": [
            "\rEvaluating group-wise accuracy:  28%|██▊       | 7/25 [00:01<00:03,  4.85it/s]"
          ]
        },
        {
          "output_type": "stream",
          "name": "stdout",
          "text": [
            "Group (1, 1) Accuracy: 100.0\n"
          ]
        },
        {
          "output_type": "stream",
          "name": "stderr",
          "text": [
            "\rEvaluating group-wise accuracy:  32%|███▏      | 8/25 [00:01<00:03,  4.92it/s]"
          ]
        },
        {
          "output_type": "stream",
          "name": "stdout",
          "text": [
            "Group (1, 2) Accuracy: 0.0\n"
          ]
        },
        {
          "output_type": "stream",
          "name": "stderr",
          "text": [
            "\rEvaluating group-wise accuracy:  36%|███▌      | 9/25 [00:01<00:03,  5.03it/s]"
          ]
        },
        {
          "output_type": "stream",
          "name": "stdout",
          "text": [
            "Group (1, 3) Accuracy: 0.0\n"
          ]
        },
        {
          "output_type": "stream",
          "name": "stderr",
          "text": [
            "\rEvaluating group-wise accuracy:  40%|████      | 10/25 [00:02<00:02,  5.10it/s]"
          ]
        },
        {
          "output_type": "stream",
          "name": "stdout",
          "text": [
            "Group (1, 4) Accuracy: 0.0\n"
          ]
        },
        {
          "output_type": "stream",
          "name": "stderr",
          "text": [
            "\rEvaluating group-wise accuracy:  44%|████▍     | 11/25 [00:02<00:02,  5.18it/s]"
          ]
        },
        {
          "output_type": "stream",
          "name": "stdout",
          "text": [
            "Group (2, 0) Accuracy: 0.0\n"
          ]
        },
        {
          "output_type": "stream",
          "name": "stderr",
          "text": [
            "\rEvaluating group-wise accuracy:  48%|████▊     | 12/25 [00:02<00:02,  5.35it/s]"
          ]
        },
        {
          "output_type": "stream",
          "name": "stdout",
          "text": [
            "Group (2, 1) Accuracy: 0.0\n"
          ]
        },
        {
          "output_type": "stream",
          "name": "stderr",
          "text": [
            "\rEvaluating group-wise accuracy:  52%|█████▏    | 13/25 [00:02<00:02,  5.38it/s]"
          ]
        },
        {
          "output_type": "stream",
          "name": "stdout",
          "text": [
            "Group (2, 2) Accuracy: 100.0\n"
          ]
        },
        {
          "output_type": "stream",
          "name": "stderr",
          "text": [
            "\rEvaluating group-wise accuracy:  56%|█████▌    | 14/25 [00:02<00:02,  5.44it/s]"
          ]
        },
        {
          "output_type": "stream",
          "name": "stdout",
          "text": [
            "Group (2, 3) Accuracy: 0.0\n"
          ]
        },
        {
          "output_type": "stream",
          "name": "stderr",
          "text": [
            "\rEvaluating group-wise accuracy:  60%|██████    | 15/25 [00:02<00:01,  5.37it/s]"
          ]
        },
        {
          "output_type": "stream",
          "name": "stdout",
          "text": [
            "Group (2, 4) Accuracy: 0.0\n"
          ]
        },
        {
          "output_type": "stream",
          "name": "stderr",
          "text": [
            "\rEvaluating group-wise accuracy:  64%|██████▍   | 16/25 [00:03<00:01,  5.46it/s]"
          ]
        },
        {
          "output_type": "stream",
          "name": "stdout",
          "text": [
            "Group (3, 0) Accuracy: 0.0\n"
          ]
        },
        {
          "output_type": "stream",
          "name": "stderr",
          "text": [
            "\rEvaluating group-wise accuracy:  68%|██████▊   | 17/25 [00:03<00:01,  5.06it/s]"
          ]
        },
        {
          "output_type": "stream",
          "name": "stdout",
          "text": [
            "Group (3, 1) Accuracy: 0.0\n"
          ]
        },
        {
          "output_type": "stream",
          "name": "stderr",
          "text": [
            "\rEvaluating group-wise accuracy:  72%|███████▏  | 18/25 [00:03<00:01,  5.20it/s]"
          ]
        },
        {
          "output_type": "stream",
          "name": "stdout",
          "text": [
            "Group (3, 2) Accuracy: 0.0\n"
          ]
        },
        {
          "output_type": "stream",
          "name": "stderr",
          "text": [
            "\rEvaluating group-wise accuracy:  76%|███████▌  | 19/25 [00:03<00:01,  5.30it/s]"
          ]
        },
        {
          "output_type": "stream",
          "name": "stdout",
          "text": [
            "Group (3, 3) Accuracy: 100.0\n"
          ]
        },
        {
          "output_type": "stream",
          "name": "stderr",
          "text": [
            "\rEvaluating group-wise accuracy:  80%|████████  | 20/25 [00:03<00:00,  5.31it/s]"
          ]
        },
        {
          "output_type": "stream",
          "name": "stdout",
          "text": [
            "Group (3, 4) Accuracy: 0.0\n"
          ]
        },
        {
          "output_type": "stream",
          "name": "stderr",
          "text": [
            "\rEvaluating group-wise accuracy:  84%|████████▍ | 21/25 [00:04<00:00,  5.13it/s]"
          ]
        },
        {
          "output_type": "stream",
          "name": "stdout",
          "text": [
            "Group (4, 0) Accuracy: 0.0\n"
          ]
        },
        {
          "output_type": "stream",
          "name": "stderr",
          "text": [
            "\rEvaluating group-wise accuracy:  88%|████████▊ | 22/25 [00:04<00:00,  5.16it/s]"
          ]
        },
        {
          "output_type": "stream",
          "name": "stdout",
          "text": [
            "Group (4, 1) Accuracy: 0.0\n"
          ]
        },
        {
          "output_type": "stream",
          "name": "stderr",
          "text": [
            "\rEvaluating group-wise accuracy:  92%|█████████▏| 23/25 [00:04<00:00,  5.22it/s]"
          ]
        },
        {
          "output_type": "stream",
          "name": "stdout",
          "text": [
            "Group (4, 2) Accuracy: 0.0\n"
          ]
        },
        {
          "output_type": "stream",
          "name": "stderr",
          "text": [
            "\rEvaluating group-wise accuracy:  96%|█████████▌| 24/25 [00:04<00:00,  5.18it/s]"
          ]
        },
        {
          "output_type": "stream",
          "name": "stdout",
          "text": [
            "Group (4, 3) Accuracy: 0.0\n"
          ]
        },
        {
          "output_type": "stream",
          "name": "stderr",
          "text": [
            "Evaluating group-wise accuracy: 100%|██████████| 25/25 [00:04<00:00,  5.08it/s]"
          ]
        },
        {
          "output_type": "stream",
          "name": "stdout",
          "text": [
            "Group (4, 4) Accuracy: 100.0\n"
          ]
        },
        {
          "output_type": "stream",
          "name": "stderr",
          "text": [
            "\n"
          ]
        },
        {
          "output_type": "execute_result",
          "data": {
            "text/plain": [
              "{(0, 0): 100.0,\n",
              " (0, 1): 0.0,\n",
              " (0, 2): 0.0,\n",
              " (0, 3): 0.0,\n",
              " (0, 4): 0.0,\n",
              " (1, 0): 0.0,\n",
              " (1, 1): 100.0,\n",
              " (1, 2): 0.0,\n",
              " (1, 3): 0.0,\n",
              " (1, 4): 0.0,\n",
              " (2, 0): 0.0,\n",
              " (2, 1): 0.0,\n",
              " (2, 2): 100.0,\n",
              " (2, 3): 0.0,\n",
              " (2, 4): 0.0,\n",
              " (3, 0): 0.0,\n",
              " (3, 1): 0.0,\n",
              " (3, 2): 0.0,\n",
              " (3, 3): 100.0,\n",
              " (3, 4): 0.0,\n",
              " (4, 0): 0.0,\n",
              " (4, 1): 0.0,\n",
              " (4, 2): 0.0,\n",
              " (4, 3): 0.0,\n",
              " (4, 4): 100.0}"
            ]
          },
          "metadata": {},
          "execution_count": 9
        }
      ]
    },
    {
      "cell_type": "code",
      "source": [
        "print(f'Spurious attribute prediction: {evaluator.evaluate_spurious_attribute_prediction()}')\n",
        "print(f'Average accuracy: {evaluator.average_accuracy}')\n",
        "print(f'Worst group accuracy: {evaluator.worst_group_accuracy}')"
      ],
      "metadata": {
        "colab": {
          "base_uri": "https://localhost:8080/"
        },
        "id": "cl4y463sf5-S",
        "outputId": "b86f17c9-215d-4594-d2fc-7ea8d3d6bd8f"
      },
      "execution_count": 10,
      "outputs": [
        {
          "output_type": "stream",
          "name": "stdout",
          "text": [
            "Spurious attribute prediction: 100.0\n",
            "Average accuracy: 98.9938338471794\n",
            "Worst group accuracy: ((0, 1), 0.0)\n"
          ]
        }
      ]
    },
    {
      "cell_type": "markdown",
      "source": [
        "We see above that there is poor average accuracy across groups, which we'll try to fix"
      ],
      "metadata": {
        "id": "sJSnV2M0fx7s"
      }
    },
    {
      "cell_type": "markdown",
      "source": [
        "# Step 2: Clutsering Fine-Grained Subclasses\n",
        "Now, we can cluster the subclasses (for example, digit 0 and 1 within our original [0, 1] group)"
      ],
      "metadata": {
        "id": "JOj3kZwZTctM"
      }
    },
    {
      "cell_type": "code",
      "source": [
        "# Feature space\n",
        "erm.trainer.get_trainset_outputs()"
      ],
      "metadata": {
        "colab": {
          "base_uri": "https://localhost:8080/"
        },
        "id": "jcH4aRJsAWZP",
        "outputId": "789e4dd0-7b8c-4aef-c7b7-624ed6ed8874"
      },
      "execution_count": 11,
      "outputs": [
        {
          "output_type": "stream",
          "name": "stderr",
          "text": [
            "Getting Trainset Outputs: 100%|██████████| 751/751 [00:01<00:00, 438.15batch/s]\n"
          ]
        },
        {
          "output_type": "execute_result",
          "data": {
            "text/plain": [
              "tensor([[-1.1480, -1.2238,  5.0270, -0.4660, -1.3661],\n",
              "        [ 5.1075, -1.3834, -2.0516, -0.8255, -0.4146],\n",
              "        [-1.1736, -1.2605,  5.2902, -0.5478, -1.3961],\n",
              "        ...,\n",
              "        [-1.1752, -1.2432,  5.2097, -0.5370, -1.3992],\n",
              "        [-1.1966, -1.0998, -0.8616,  4.9970, -0.9956],\n",
              "        [-1.2970, -2.0591, -1.1557, -0.9450,  4.8469]], device='cuda:0')"
            ]
          },
          "metadata": {},
          "execution_count": 11
        }
      ]
    },
    {
      "cell_type": "code",
      "source": [
        "for pair in dataset_train.group_partition.keys():\n",
        "    print(pair, len(dataset_train.group_partition[pair]))"
      ],
      "metadata": {
        "colab": {
          "base_uri": "https://localhost:8080/"
        },
        "id": "cOKfOKYv8Zke",
        "outputId": "f0c3b010-7a0c-43ae-d393-c032536aa0bf"
      },
      "execution_count": 12,
      "outputs": [
        {
          "output_type": "stream",
          "name": "stdout",
          "text": [
            "(2, 2) 8920\n",
            "(0, 0) 10031\n",
            "(4, 4) 9346\n",
            "(1, 1) 9575\n",
            "(3, 3) 9649\n",
            "(3, 1) 23\n",
            "(3, 2) 29\n",
            "(2, 3) 26\n",
            "(4, 3) 27\n",
            "(4, 2) 19\n",
            "(0, 1) 31\n",
            "(3, 4) 23\n",
            "(0, 3) 25\n",
            "(4, 0) 23\n",
            "(1, 3) 20\n",
            "(2, 1) 23\n",
            "(1, 0) 29\n",
            "(1, 2) 29\n",
            "(0, 2) 22\n",
            "(4, 1) 26\n",
            "(1, 4) 19\n",
            "(3, 0) 23\n",
            "(2, 4) 25\n",
            "(0, 4) 24\n",
            "(2, 0) 17\n"
          ]
        }
      ]
    },
    {
      "cell_type": "code",
      "source": [
        "# Cluster based on the output feature space\n",
        "features = erm.trainer.get_trainset_outputs()\n",
        "cluster = Cluster(\n",
        "    Z = features,\n",
        "    class_labels = dataset_train.labels,\n",
        "    num_clusters = 2,\n",
        "    device = device,\n",
        "    verbose = True\n",
        ")\n",
        "\n",
        "clusters = cluster.infer_groups()"
      ],
      "metadata": {
        "colab": {
          "base_uri": "https://localhost:8080/"
        },
        "id": "5a3RiepC75tU",
        "outputId": "a3185aaf-862c-44b5-dfaf-947c40aaeb1f"
      },
      "execution_count": 13,
      "outputs": [
        {
          "output_type": "stream",
          "name": "stderr",
          "text": [
            "Getting Trainset Outputs: 100%|██████████| 751/751 [00:01<00:00, 465.27batch/s]\n",
            "Clustering class-wise: 100%|██████████| 5/5 [00:00<00:00, 17.09it/s]\n"
          ]
        }
      ]
    },
    {
      "cell_type": "code",
      "source": [
        "for pair in sorted(clusters.keys()):\n",
        "    print(pair, len(clusters[pair]))"
      ],
      "metadata": {
        "colab": {
          "base_uri": "https://localhost:8080/"
        },
        "id": "-1WcKkjm9NBv",
        "outputId": "dd1ad56f-9b6b-4669-ac9f-bef68b80fb68"
      },
      "execution_count": 14,
      "outputs": [
        {
          "output_type": "stream",
          "name": "stdout",
          "text": [
            "(0, 0) 10031\n",
            "(0, 1) 102\n",
            "(1, 0) 9575\n",
            "(1, 1) 97\n",
            "(2, 0) 91\n",
            "(2, 1) 8920\n",
            "(3, 0) 9649\n",
            "(3, 1) 98\n",
            "(4, 0) 9346\n",
            "(4, 1) 95\n"
          ]
        }
      ]
    },
    {
      "cell_type": "markdown",
      "source": [
        "# Step 3: Retraining with Group Balancing"
      ],
      "metadata": {
        "id": "QCBk2R4sTiBx"
      }
    },
    {
      "cell_type": "code",
      "source": [
        "network = model_factory(\n",
        "    arch = 'lenet',\n",
        "    input_shape = dataset_train[0][0].shape,\n",
        "    num_classes = dataset_train.num_classes\n",
        ")\n",
        "network.to(device)\n",
        "summary(network, dataset_train[0][0].shape)"
      ],
      "metadata": {
        "colab": {
          "base_uri": "https://localhost:8080/"
        },
        "id": "Knybm9Hr-zld",
        "outputId": "1db2156b-00b2-42e6-e0f7-7e58e5fdcb45"
      },
      "execution_count": 15,
      "outputs": [
        {
          "output_type": "stream",
          "name": "stdout",
          "text": [
            "----------------------------------------------------------------\n",
            "        Layer (type)               Output Shape         Param #\n",
            "================================================================\n",
            "            Conv2d-1            [-1, 6, 28, 28]             456\n",
            "              ReLU-2            [-1, 6, 28, 28]               0\n",
            "         MaxPool2d-3            [-1, 6, 14, 14]               0\n",
            "            Conv2d-4           [-1, 16, 10, 10]           2,416\n",
            "              ReLU-5           [-1, 16, 10, 10]               0\n",
            "         MaxPool2d-6             [-1, 16, 5, 5]               0\n",
            "            Linear-7                  [-1, 120]          48,120\n",
            "            Linear-8                   [-1, 84]          10,164\n",
            "             LeNet-9                   [-1, 84]               0\n",
            "           Linear-10                    [-1, 5]             425\n",
            "================================================================\n",
            "Total params: 61,581\n",
            "Trainable params: 61,581\n",
            "Non-trainable params: 0\n",
            "----------------------------------------------------------------\n",
            "Input size (MB): 0.01\n",
            "Forward/backward pass size (MB): 0.11\n",
            "Params size (MB): 0.23\n",
            "Estimated Total Size (MB): 0.35\n",
            "----------------------------------------------------------------\n"
          ]
        }
      ]
    },
    {
      "cell_type": "code",
      "execution_count": 16,
      "metadata": {
        "id": "Y3VfbCwSS-Nm"
      },
      "outputs": [],
      "source": [
        "# Optimizer\n",
        "optimizer=optim.SGD(network.parameters(), lr=1e-2, momentum=0.9, nesterov=True)"
      ]
    },
    {
      "cell_type": "code",
      "source": [
        "# Train using Group Balance Batch ERM\n",
        "group_balance = GroupBalanceBatchERM(\n",
        "    model = network,\n",
        "    trainset = dataset_train,\n",
        "    num_epochs = 10,\n",
        "    group_partition = clusters,\n",
        "    batch_size = 64,\n",
        "    optimizer = optimizer,\n",
        "    device = device,\n",
        "    verbose = True\n",
        ")\n",
        "group_balance.train()"
      ],
      "metadata": {
        "colab": {
          "base_uri": "https://localhost:8080/"
        },
        "id": "L2_EuYOeG61u",
        "outputId": "70435c08-4b03-4085-b435-4455a27f25f6"
      },
      "execution_count": 17,
      "outputs": [
        {
          "output_type": "stream",
          "name": "stderr",
          "text": [
            "Epoch 0: 100%|██████████| 751/751 [00:03<00:00, 199.74batch/s, accuracy=100.0%, loss=0.00308]\n",
            "Epoch 1: 100%|██████████| 751/751 [00:03<00:00, 204.43batch/s, accuracy=100.0%, loss=0.0385]\n",
            "Epoch 2: 100%|██████████| 751/751 [00:03<00:00, 201.03batch/s, accuracy=100.0%, loss=0.000827]\n",
            "Epoch 3: 100%|██████████| 751/751 [00:03<00:00, 206.48batch/s, accuracy=100.0%, loss=9.15e-6]\n",
            "Epoch 4: 100%|██████████| 751/751 [00:03<00:00, 207.85batch/s, accuracy=100.0%, loss=1.94e-6]\n",
            "Epoch 5: 100%|██████████| 751/751 [00:03<00:00, 203.24batch/s, accuracy=100.0%, loss=5.36e-6]\n",
            "Epoch 6: 100%|██████████| 751/751 [00:03<00:00, 202.76batch/s, accuracy=100.0%, loss=3.14e-5]\n",
            "Epoch 7: 100%|██████████| 751/751 [00:03<00:00, 196.10batch/s, accuracy=100.0%, loss=5.96e-7]\n",
            "Epoch 8: 100%|██████████| 751/751 [00:03<00:00, 203.08batch/s, accuracy=100.0%, loss=8.2e-5]\n",
            "Epoch 9: 100%|██████████| 751/751 [00:03<00:00, 201.16batch/s, accuracy=100.0%, loss=5.96e-7]\n"
          ]
        }
      ]
    },
    {
      "cell_type": "code",
      "source": [
        "evaluator = Evaluator(\n",
        "    testset = dataset_test,\n",
        "    group_partition = dataset_test.group_partition,\n",
        "    group_weights = dataset_train.group_weights,\n",
        "    batch_size = 64,\n",
        "    model = network,\n",
        "    device = device,\n",
        "    verbose = True\n",
        ")\n",
        "\n",
        "evaluator.evaluate()"
      ],
      "metadata": {
        "colab": {
          "base_uri": "https://localhost:8080/"
        },
        "id": "pW_ifAvCJ1Kk",
        "outputId": "94163e96-56a5-4449-d1fa-5071659dcafa"
      },
      "execution_count": 18,
      "outputs": [
        {
          "output_type": "stream",
          "name": "stderr",
          "text": [
            "Evaluating group-wise accuracy:   4%|▍         | 1/25 [00:00<00:04,  5.89it/s]"
          ]
        },
        {
          "output_type": "stream",
          "name": "stdout",
          "text": [
            "Group (0, 0) Accuracy: 99.76359338061465\n"
          ]
        },
        {
          "output_type": "stream",
          "name": "stderr",
          "text": [
            "\rEvaluating group-wise accuracy:   8%|▊         | 2/25 [00:00<00:03,  5.98it/s]"
          ]
        },
        {
          "output_type": "stream",
          "name": "stdout",
          "text": [
            "Group (0, 1) Accuracy: 89.83451536643027\n"
          ]
        },
        {
          "output_type": "stream",
          "name": "stderr",
          "text": [
            "\rEvaluating group-wise accuracy:  12%|█▏        | 3/25 [00:00<00:03,  5.84it/s]"
          ]
        },
        {
          "output_type": "stream",
          "name": "stdout",
          "text": [
            "Group (0, 2) Accuracy: 88.65248226950355\n"
          ]
        },
        {
          "output_type": "stream",
          "name": "stderr",
          "text": [
            "\rEvaluating group-wise accuracy:  16%|█▌        | 4/25 [00:00<00:03,  5.86it/s]"
          ]
        },
        {
          "output_type": "stream",
          "name": "stdout",
          "text": [
            "Group (0, 3) Accuracy: 89.59810874704492\n"
          ]
        },
        {
          "output_type": "stream",
          "name": "stderr",
          "text": [
            "\rEvaluating group-wise accuracy:  20%|██        | 5/25 [00:00<00:03,  6.00it/s]"
          ]
        },
        {
          "output_type": "stream",
          "name": "stdout",
          "text": [
            "Group (0, 4) Accuracy: 84.16075650118204\n"
          ]
        },
        {
          "output_type": "stream",
          "name": "stderr",
          "text": [
            "\rEvaluating group-wise accuracy:  24%|██▍       | 6/25 [00:01<00:03,  5.85it/s]"
          ]
        },
        {
          "output_type": "stream",
          "name": "stdout",
          "text": [
            "Group (1, 0) Accuracy: 90.95354523227384\n"
          ]
        },
        {
          "output_type": "stream",
          "name": "stderr",
          "text": [
            "\rEvaluating group-wise accuracy:  28%|██▊       | 7/25 [00:01<00:03,  5.92it/s]"
          ]
        },
        {
          "output_type": "stream",
          "name": "stdout",
          "text": [
            "Group (1, 1) Accuracy: 100.0\n"
          ]
        },
        {
          "output_type": "stream",
          "name": "stderr",
          "text": [
            "\rEvaluating group-wise accuracy:  32%|███▏      | 8/25 [00:01<00:02,  5.89it/s]"
          ]
        },
        {
          "output_type": "stream",
          "name": "stdout",
          "text": [
            "Group (1, 2) Accuracy: 87.99019607843137\n"
          ]
        },
        {
          "output_type": "stream",
          "name": "stderr",
          "text": [
            "\rEvaluating group-wise accuracy:  36%|███▌      | 9/25 [00:01<00:02,  5.87it/s]"
          ]
        },
        {
          "output_type": "stream",
          "name": "stdout",
          "text": [
            "Group (1, 3) Accuracy: 77.69607843137256\n"
          ]
        },
        {
          "output_type": "stream",
          "name": "stderr",
          "text": [
            "\rEvaluating group-wise accuracy:  40%|████      | 10/25 [00:01<00:02,  5.81it/s]"
          ]
        },
        {
          "output_type": "stream",
          "name": "stdout",
          "text": [
            "Group (1, 4) Accuracy: 64.2156862745098\n"
          ]
        },
        {
          "output_type": "stream",
          "name": "stderr",
          "text": [
            "\rEvaluating group-wise accuracy:  44%|████▍     | 11/25 [00:01<00:02,  5.85it/s]"
          ]
        },
        {
          "output_type": "stream",
          "name": "stdout",
          "text": [
            "Group (2, 0) Accuracy: 92.0\n"
          ]
        },
        {
          "output_type": "stream",
          "name": "stderr",
          "text": [
            "\rEvaluating group-wise accuracy:  48%|████▊     | 12/25 [00:02<00:02,  5.85it/s]"
          ]
        },
        {
          "output_type": "stream",
          "name": "stdout",
          "text": [
            "Group (2, 1) Accuracy: 78.93333333333334\n"
          ]
        },
        {
          "output_type": "stream",
          "name": "stderr",
          "text": [
            "\rEvaluating group-wise accuracy:  52%|█████▏    | 13/25 [00:02<00:02,  5.87it/s]"
          ]
        },
        {
          "output_type": "stream",
          "name": "stdout",
          "text": [
            "Group (2, 2) Accuracy: 99.46666666666667\n"
          ]
        },
        {
          "output_type": "stream",
          "name": "stderr",
          "text": [
            "\rEvaluating group-wise accuracy:  56%|█████▌    | 14/25 [00:02<00:01,  5.87it/s]"
          ]
        },
        {
          "output_type": "stream",
          "name": "stdout",
          "text": [
            "Group (2, 3) Accuracy: 86.66666666666667\n"
          ]
        },
        {
          "output_type": "stream",
          "name": "stderr",
          "text": [
            "\rEvaluating group-wise accuracy:  60%|██████    | 15/25 [00:02<00:01,  5.81it/s]"
          ]
        },
        {
          "output_type": "stream",
          "name": "stdout",
          "text": [
            "Group (2, 4) Accuracy: 54.27807486631016\n"
          ]
        },
        {
          "output_type": "stream",
          "name": "stderr",
          "text": [
            "\rEvaluating group-wise accuracy:  64%|██████▍   | 16/25 [00:02<00:01,  5.94it/s]"
          ]
        },
        {
          "output_type": "stream",
          "name": "stdout",
          "text": [
            "Group (3, 0) Accuracy: 85.678391959799\n"
          ]
        },
        {
          "output_type": "stream",
          "name": "stderr",
          "text": [
            "\rEvaluating group-wise accuracy:  68%|██████▊   | 17/25 [00:02<00:01,  5.91it/s]"
          ]
        },
        {
          "output_type": "stream",
          "name": "stdout",
          "text": [
            "Group (3, 1) Accuracy: 79.34508816120906\n"
          ]
        },
        {
          "output_type": "stream",
          "name": "stderr",
          "text": [
            "\rEvaluating group-wise accuracy:  72%|███████▏  | 18/25 [00:03<00:01,  5.93it/s]"
          ]
        },
        {
          "output_type": "stream",
          "name": "stdout",
          "text": [
            "Group (3, 2) Accuracy: 90.42821158690177\n"
          ]
        },
        {
          "output_type": "stream",
          "name": "stderr",
          "text": [
            "\rEvaluating group-wise accuracy:  76%|███████▌  | 19/25 [00:03<00:01,  5.89it/s]"
          ]
        },
        {
          "output_type": "stream",
          "name": "stdout",
          "text": [
            "Group (3, 3) Accuracy: 100.0\n"
          ]
        },
        {
          "output_type": "stream",
          "name": "stderr",
          "text": [
            "\rEvaluating group-wise accuracy:  80%|████████  | 20/25 [00:03<00:00,  5.88it/s]"
          ]
        },
        {
          "output_type": "stream",
          "name": "stdout",
          "text": [
            "Group (3, 4) Accuracy: 56.1712846347607\n"
          ]
        },
        {
          "output_type": "stream",
          "name": "stderr",
          "text": [
            "\rEvaluating group-wise accuracy:  84%|████████▍ | 21/25 [00:03<00:00,  5.92it/s]"
          ]
        },
        {
          "output_type": "stream",
          "name": "stdout",
          "text": [
            "Group (4, 0) Accuracy: 82.61964735516372\n"
          ]
        },
        {
          "output_type": "stream",
          "name": "stderr",
          "text": [
            "\rEvaluating group-wise accuracy:  88%|████████▊ | 22/25 [00:03<00:00,  5.86it/s]"
          ]
        },
        {
          "output_type": "stream",
          "name": "stdout",
          "text": [
            "Group (4, 1) Accuracy: 62.21662468513854\n"
          ]
        },
        {
          "output_type": "stream",
          "name": "stderr",
          "text": [
            "\rEvaluating group-wise accuracy:  92%|█████████▏| 23/25 [00:03<00:00,  5.82it/s]"
          ]
        },
        {
          "output_type": "stream",
          "name": "stdout",
          "text": [
            "Group (4, 2) Accuracy: 49.87405541561713\n"
          ]
        },
        {
          "output_type": "stream",
          "name": "stderr",
          "text": [
            "\rEvaluating group-wise accuracy:  96%|█████████▌| 24/25 [00:04<00:00,  5.83it/s]"
          ]
        },
        {
          "output_type": "stream",
          "name": "stdout",
          "text": [
            "Group (4, 3) Accuracy: 73.23232323232324\n"
          ]
        },
        {
          "output_type": "stream",
          "name": "stderr",
          "text": [
            "Evaluating group-wise accuracy: 100%|██████████| 25/25 [00:04<00:00,  5.88it/s]"
          ]
        },
        {
          "output_type": "stream",
          "name": "stdout",
          "text": [
            "Group (4, 4) Accuracy: 100.0\n"
          ]
        },
        {
          "output_type": "stream",
          "name": "stderr",
          "text": [
            "\n"
          ]
        },
        {
          "output_type": "execute_result",
          "data": {
            "text/plain": [
              "{(0, 0): 99.76359338061465,\n",
              " (0, 1): 89.83451536643027,\n",
              " (0, 2): 88.65248226950355,\n",
              " (0, 3): 89.59810874704492,\n",
              " (0, 4): 84.16075650118204,\n",
              " (1, 0): 90.95354523227384,\n",
              " (1, 1): 100.0,\n",
              " (1, 2): 87.99019607843137,\n",
              " (1, 3): 77.69607843137256,\n",
              " (1, 4): 64.2156862745098,\n",
              " (2, 0): 92.0,\n",
              " (2, 1): 78.93333333333334,\n",
              " (2, 2): 99.46666666666667,\n",
              " (2, 3): 86.66666666666667,\n",
              " (2, 4): 54.27807486631016,\n",
              " (3, 0): 85.678391959799,\n",
              " (3, 1): 79.34508816120906,\n",
              " (3, 2): 90.42821158690177,\n",
              " (3, 3): 100.0,\n",
              " (3, 4): 56.1712846347607,\n",
              " (4, 0): 82.61964735516372,\n",
              " (4, 1): 62.21662468513854,\n",
              " (4, 2): 49.87405541561713,\n",
              " (4, 3): 73.23232323232324,\n",
              " (4, 4): 100.0}"
            ]
          },
          "metadata": {},
          "execution_count": 18
        }
      ]
    },
    {
      "cell_type": "code",
      "source": [
        "print(f'Spurious attribute prediction: {evaluator.evaluate_spurious_attribute_prediction()}')\n",
        "print(f'Average accuracy: {evaluator.average_accuracy}')\n",
        "print(f'Worst group accuracy: {evaluator.worst_group_accuracy}')"
      ],
      "metadata": {
        "colab": {
          "base_uri": "https://localhost:8080/"
        },
        "id": "-H5nefA8Nv7G",
        "outputId": "00efdc38-44dd-4568-dedc-98a55db04324"
      },
      "execution_count": 19,
      "outputs": [
        {
          "output_type": "stream",
          "name": "stdout",
          "text": [
            "Spurious attribute prediction: 34.42\n",
            "Average accuracy: 99.63903235027645\n",
            "Worst group accuracy: ((4, 2), 49.87405541561713)\n"
          ]
        }
      ]
    },
    {
      "cell_type": "markdown",
      "source": [
        "Now, our model doesn't fall for the spurious correlations we injected and is more accurate across groups"
      ],
      "metadata": {
        "id": "NkrLTb3Vewy-"
      }
    }
  ]
}